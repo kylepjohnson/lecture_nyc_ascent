{
 "cells": [
  {
   "cell_type": "code",
   "execution_count": 1,
   "metadata": {
    "collapsed": true
   },
   "outputs": [],
   "source": [
    "import csv\n",
    "from datetime import datetime\n",
    "\n",
    "import pandas"
   ]
  },
  {
   "cell_type": "markdown",
   "metadata": {},
   "source": [
    "# Open csv"
   ]
  },
  {
   "cell_type": "code",
   "execution_count": 2,
   "metadata": {
    "collapsed": false
   },
   "outputs": [],
   "source": [
    "# Open with csv module, iterate row-by-row\n",
    "with open('tweets_popular.csv', 'rb') as file_open:\n",
    "    popular_csv = csv.reader(file_open, delimiter='|')\n",
    "    for row in popular_csv:\n",
    "        pass"
   ]
  },
  {
   "cell_type": "code",
   "execution_count": 3,
   "metadata": {
    "collapsed": false
   },
   "outputs": [],
   "source": [
    "# Open with Pandas, load into DataFrame\n",
    "\n",
    "# TODO: Parse dates correctly; this is close but not working\n",
    "date_parser = lambda x: pandas.datetime.strptime(x, '%a %b %d %H:%M:%S +z %Y')  # Mon Feb 15 20:44:33 +0000 2016\n",
    "\n",
    "popular_df = pandas.read_csv('tweets_popular.csv', \n",
    "                             delimiter='|', \n",
    "                             error_bad_lines=False, \n",
    "                             warn_bad_lines=False, \n",
    "                             parse_dates=True,\n",
    "                             date_parser=date_parser\n",
    "                            )"
   ]
  },
  {
   "cell_type": "code",
   "execution_count": 4,
   "metadata": {
    "collapsed": false
   },
   "outputs": [
    {
     "name": "stdout",
     "output_type": "stream",
     "text": [
      "('Shape:', (2413, 3))\n",
      "('Columns:', Index([u'text', u'rt_count', u'tweet_datetime'], dtype='object'))\n"
     ]
    }
   ],
   "source": [
    "# Let's inspect our data\n",
    "print('Shape:', popular_df.shape)\n",
    "print('Columns:', popular_df.columns)"
   ]
  },
  {
   "cell_type": "code",
   "execution_count": 5,
   "metadata": {
    "collapsed": false
   },
   "outputs": [
    {
     "name": "stdout",
     "output_type": "stream",
     "text": [
      "Text column\n",
      "0    @CringeLMAO: Easy there m8 https://t.co/dnF3Wq...\n",
      "1    @AustinMahone: Just posted a photo https://t.c...\n",
      "2    @Ashton5SOS: Some days I drink way to much cof...\n",
      "3    @lailamuhammad: When you nail that #Beyonc   m...\n",
      "Name: text, dtype: object\n"
     ]
    }
   ],
   "source": [
    "# Look at columns\n",
    "print('Text column')\n",
    "print(popular_df['text'][:4])"
   ]
  },
  {
   "cell_type": "code",
   "execution_count": 6,
   "metadata": {
    "collapsed": false
   },
   "outputs": [
    {
     "name": "stdout",
     "output_type": "stream",
     "text": [
      "Retweet count\n",
      "0     2084\n",
      "1     1059\n",
      "2    24121\n",
      "3      801\n",
      "Name: rt_count, dtype: int64\n"
     ]
    }
   ],
   "source": [
    "# Look at columns\n",
    "print('Retweet count')\n",
    "print(popular_df['rt_count'][:4])"
   ]
  },
  {
   "cell_type": "code",
   "execution_count": 7,
   "metadata": {
    "collapsed": false
   },
   "outputs": [
    {
     "name": "stdout",
     "output_type": "stream",
     "text": [
      "Date-time\n",
      "0    Mon Feb 15 20:44:33 +0000 2016\n",
      "1    Mon Feb 15 20:44:33 +0000 2016\n",
      "2    Mon Feb 15 20:44:33 +0000 2016\n",
      "3    Mon Feb 15 20:44:33 +0000 2016\n",
      "Name: tweet_datetime, dtype: object\n"
     ]
    }
   ],
   "source": [
    "# Look at columns\n",
    "print('Date-time')\n",
    "print(popular_df['tweet_datetime'][:4])"
   ]
  },
  {
   "cell_type": "code",
   "execution_count": 8,
   "metadata": {
    "collapsed": false
   },
   "outputs": [
    {
     "name": "stdout",
     "output_type": "stream",
     "text": [
      "<type 'str'>\n"
     ]
    }
   ],
   "source": [
    "# Let's look at the parsed date-time\n",
    "dt = popular_df['tweet_datetime'][0]\n",
    "print(type(dt))"
   ]
  },
  {
   "cell_type": "code",
   "execution_count": 9,
   "metadata": {
    "collapsed": false
   },
   "outputs": [
    {
     "name": "stdout",
     "output_type": "stream",
     "text": [
      "('Shape:', (9065, 3))\n",
      "('Columns:', Index([u'text', u'rt_count', u'tweet_datetime'], dtype='object'))\n"
     ]
    }
   ],
   "source": [
    "# Do the same for unpopular data\n",
    "not_popular_df = pandas.read_csv('tweets_not_popular.csv', \n",
    "                                 delimiter='|', \n",
    "                                 error_bad_lines=False, \n",
    "                                 warn_bad_lines=False,\n",
    "                                 parse_dates=True,\n",
    "                                 date_parser=date_parser)\n",
    "\n",
    "# Let's inspect our data\n",
    "print('Shape:', not_popular_df.shape)\n",
    "print('Columns:', not_popular_df.columns)"
   ]
  },
  {
   "cell_type": "markdown",
   "metadata": {
    "collapsed": true
   },
   "source": [
    "# Data cleanup"
   ]
  },
  {
   "cell_type": "markdown",
   "metadata": {},
   "source": [
    "## Remove duplicate rows"
   ]
  },
  {
   "cell_type": "code",
   "execution_count": 10,
   "metadata": {
    "collapsed": false
   },
   "outputs": [
    {
     "name": "stdout",
     "output_type": "stream",
     "text": [
      "('Shape before', (2413, 3))\n",
      "('Shape after', (2319, 3))\n"
     ]
    }
   ],
   "source": [
    "print('Shape before', popular_df.shape)\n",
    "popular_df = popular_df.drop_duplicates()\n",
    "print('Shape after', popular_df.shape)"
   ]
  },
  {
   "cell_type": "code",
   "execution_count": 11,
   "metadata": {
    "collapsed": false
   },
   "outputs": [
    {
     "name": "stdout",
     "output_type": "stream",
     "text": [
      "('Shape before', (9065, 3))\n",
      "('Shape after', (9065, 3))\n"
     ]
    }
   ],
   "source": [
    "print('Shape before', not_popular_df.shape)\n",
    "popular_df = not_popular_df.drop_duplicates()\n",
    "print('Shape after', not_popular_df.shape)"
   ]
  },
  {
   "cell_type": "markdown",
   "metadata": {},
   "source": [
    "## What else???"
   ]
  },
  {
   "cell_type": "markdown",
   "metadata": {},
   "source": [
    "# Feature extraction"
   ]
  },
  {
   "cell_type": "markdown",
   "metadata": {},
   "source": [
    "## Word tokenization\n",
    "\n",
    "Show plain function, maybe NLTK too"
   ]
  },
  {
   "cell_type": "code",
   "execution_count": null,
   "metadata": {
    "collapsed": true
   },
   "outputs": [],
   "source": []
  },
  {
   "cell_type": "markdown",
   "metadata": {},
   "source": [
    "## Counting text\n",
    "\n",
    "* count chars\n",
    "* count words\n",
    "* count links\n",
    "* count #hashtags\n",
    "* count @mentions"
   ]
  },
  {
   "cell_type": "code",
   "execution_count": null,
   "metadata": {
    "collapsed": true
   },
   "outputs": [],
   "source": []
  },
  {
   "cell_type": "markdown",
   "metadata": {},
   "source": [
    "## Extracting from datetime?\n",
    "\n",
    "Problem here is our times are not very diverse."
   ]
  },
  {
   "cell_type": "code",
   "execution_count": null,
   "metadata": {
    "collapsed": true
   },
   "outputs": [],
   "source": []
  },
  {
   "cell_type": "markdown",
   "metadata": {},
   "source": [
    "# Bag of words?\n",
    "\n",
    "This would be useful for their speech classifying exercise"
   ]
  },
  {
   "cell_type": "code",
   "execution_count": null,
   "metadata": {
    "collapsed": true
   },
   "outputs": [],
   "source": []
  },
  {
   "cell_type": "markdown",
   "metadata": {},
   "source": [
    "# Write DataFrame to csv\n",
    "\n",
    "The next notebook will pick up from here"
   ]
  },
  {
   "cell_type": "code",
   "execution_count": 16,
   "metadata": {
    "collapsed": true
   },
   "outputs": [],
   "source": [
    "popular_df.to_csv('popular_tweet_features.csv', sep='|', encoding='utf-8')"
   ]
  },
  {
   "cell_type": "code",
   "execution_count": 17,
   "metadata": {
    "collapsed": true
   },
   "outputs": [],
   "source": [
    "not_popular_df.to_csv('not_popular_tweet_features.csv', sep='|', encoding='utf-8')"
   ]
  },
  {
   "cell_type": "code",
   "execution_count": null,
   "metadata": {
    "collapsed": true
   },
   "outputs": [],
   "source": []
  }
 ],
 "metadata": {
  "kernelspec": {
   "display_name": "Python 2",
   "language": "python",
   "name": "python2"
  },
  "language_info": {
   "codemirror_mode": {
    "name": "ipython",
    "version": 2
   },
   "file_extension": ".py",
   "mimetype": "text/x-python",
   "name": "python",
   "nbconvert_exporter": "python",
   "pygments_lexer": "ipython2",
   "version": "2.7.11"
  }
 },
 "nbformat": 4,
 "nbformat_minor": 0
}
